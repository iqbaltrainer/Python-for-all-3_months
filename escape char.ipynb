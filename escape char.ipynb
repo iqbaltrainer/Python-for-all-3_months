{
 "cells": [
  {
   "cell_type": "markdown",
   "metadata": {},
   "source": [
    "Program to veiw different escape characters in python"
   ]
  },
  {
   "cell_type": "code",
   "execution_count": 2,
   "metadata": {
    "scrolled": false
   },
   "outputs": [
    {
     "name": "stdout",
     "output_type": "stream",
     "text": [
      "Enter 1st line/word\n",
      "dsd\n",
      "Enter 2nd line/word\n",
      "dsd\n",
      "Escape Character No-1 [\\] Prints Backslash b/w to lines/word.\n",
      "dsd\\dsd\n",
      "Escape Character No-2 [\\`] Prints single-quote b/w to lines/word.\n",
      "dsd'dsd\n",
      "Escape Character No-3 [\\\"] Prints double-quote b/w to lines/word.\n",
      "dsd\"dsd\n",
      "Escape Character No-4 [\\a] Prints \u0007 b/w to lines/word.\n",
      "dsd\u0007dsd\n",
      "Escape Character No-5 [\\b] Backspace ( BS ) removes previous character.\n",
      "dsdsd\n",
      "Escape Character No-6 [\\f] Forwardfeed ( FF )\n",
      "dsd \f",
      " dsd\n",
      "Escape Character No-7[\\n] Linefeed ( LF )\n",
      "dsd \n",
      " dsd\n",
      "Escape Character No-8[\\r] Carriage return (CR). Moves all characters after ( CR ) the beginning of the line while overriding same number of characters moved.\n",
      "dsd\n",
      "Escape Character No-9[\\t] Vertical TAB\n",
      "dsd \t dsd\n",
      "Some other escape characters are:\n",
      "10-\\uxxxx Prints 16-bit hex value Unicode character.\n",
      "11-\\uxxxxxxxx Prints 32-bit hex value Unicode character.\n",
      "12-\\ooo Prints character based on its octal value.\n",
      "13-\\xhh Prints character based on its hex value.\n",
      "faizan#"
     ]
    }
   ],
   "source": [
    "x=input(\"Enter 1st line/word\"'\\n')\n",
    "y=input(\"Enter 2nd line/word\"'\\n')\n",
    "print(\"Escape Character No-1 [\\] Prints Backslash b/w to lines/word.\")\n",
    "print(x,y,sep=\"\\\\\")\n",
    "print(\"Escape Character No-2 [\\`] Prints single-quote b/w to lines/word.\")\n",
    "print(x,y,sep=\"\\'\")\n",
    "print('Escape Character No-3 [\\\\\"] Prints double-quote b/w to lines/word.')\n",
    "print(x,y,sep=\"\\\"\")\n",
    "print(\"Escape Character No-4 [\\\\a] Prints \\a b/w to lines/word.\")\n",
    "print(x,y,sep=\"\\a\")\n",
    "print(\"Escape Character No-5 [\\\\b] Backspace ( BS ) removes previous character.\")\n",
    "print(x,y,sep=\"\\b\")\n",
    "print(\"Escape Character No-6 [\\\\f] Forwardfeed ( FF )\")\n",
    "print(x,'\\f',y)\n",
    "print(\"Escape Character No-7[\\\\n] Linefeed ( LF )\")\n",
    "print(x,'\\n',y)\n",
    "print(\"Escape Character No-8[\\\\r] Carriage return (CR). Moves all characters after ( CR ) the beginning of the line while overriding same number of characters moved.\")\n",
    "print(x,y,sep='\\r')\n",
    "print(\"Escape Character No-9[\\\\t] Vertical TAB\")\n",
    "print(x,'\\t',y)\n",
    "print(\"Some other escape characters are:\"'\\n'\"10-\\\\uxxxx Prints 16-bit hex value Unicode character.\"'\\n'\n",
    "\"11-\\\\uxxxxxxxx Prints 32-bit hex value Unicode character.\"'\\n'\"12-\\\\ooo Prints character based on its octal value.\"'\\n'\n",
    "\"13-\\\\xhh Prints character based on its hex value.\")\n",
    "print(\"faizan\",end='#')"
   ]
  },
  {
   "cell_type": "code",
   "execution_count": null,
   "metadata": {},
   "outputs": [],
   "source": []
  }
 ],
 "metadata": {
  "kernelspec": {
   "display_name": "Python 3",
   "language": "python",
   "name": "python3"
  },
  "language_info": {
   "codemirror_mode": {
    "name": "ipython",
    "version": 3
   },
   "file_extension": ".py",
   "mimetype": "text/x-python",
   "name": "python",
   "nbconvert_exporter": "python",
   "pygments_lexer": "ipython3",
   "version": "3.6.7"
  }
 },
 "nbformat": 4,
 "nbformat_minor": 2
}
