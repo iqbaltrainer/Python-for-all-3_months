{
 "cells": [
  {
   "cell_type": "code",
   "execution_count": null,
   "metadata": {},
   "outputs": [],
   "source": [
    "if species == \"cat\":\n",
    "    print(\"Yep, it's cat.\")\n",
    "    if species != \"cat\":\n",
    "        print(\"Nope, not cat.\")"
   ]
  },
  {
   "cell_type": "code",
   "execution_count": null,
   "metadata": {},
   "outputs": [],
   "source": [
    "if species == \"cat\":\n",
    "    print(\"Yep, it's cat.\")\n",
    "    else:\n",
    "        print(\"Nope, not cat.\")"
   ]
  },
  {
   "cell_type": "code",
   "execution_count": null,
   "metadata": {},
   "outputs": [],
   "source": [
    "if donut_condition == \"fresh\":\n",
    "    buy_score = 10\n",
    "    elif donut_price == \"low\":\n",
    "        buy_score = 5\n",
    "        else:\n",
    "            buy_score = 0"
   ]
  },
  {
   "cell_type": "code",
   "execution_count": null,
   "metadata": {},
   "outputs": [],
   "source": [
    "buy_score = 0\n",
    "if donut_condition == \"fresh\":\n",
    "    buy_score += 10\n",
    "    if donut_filling == \"chocolate\":\n",
    "        buy_score += 5\n",
    "        if donut_price == \"reasonable\":\n",
    "            buy_score += 7"
   ]
  }
 ],
 "metadata": {
  "kernelspec": {
   "display_name": "Python 3",
   "language": "python",
   "name": "python3"
  },
  "language_info": {
   "codemirror_mode": {
    "name": "ipython",
    "version": 3
   },
   "file_extension": ".py",
   "mimetype": "text/x-python",
   "name": "python",
   "nbconvert_exporter": "python",
   "pygments_lexer": "ipython3",
   "version": "3.6.7"
  }
 },
 "nbformat": 4,
 "nbformat_minor": 2
}
