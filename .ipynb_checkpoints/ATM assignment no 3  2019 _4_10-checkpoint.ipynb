{
 "cells": [
  {
   "cell_type": "code",
   "execution_count": 15,
   "metadata": {},
   "outputs": [
    {
     "name": "stdout",
     "output_type": "stream",
     "text": [
      "Welcome to Virtual Bank\n",
      "\n",
      "\n",
      "Press 1 for Withdraw Amount\n",
      "Press 2 for Amount Deposite\n",
      "Press 3 for Balance Inquiry\n",
      "Press 4 Exit\n",
      "1\n",
      "----------------------------------------------------------------------------------------\n",
      "Please Enter the amount to withdraw: 4500\n",
      "----------------------------------------------------------------------------------------\n",
      "\n",
      "\n",
      "Congratulation your Transaction has been completed succcufully\n",
      "\n",
      "Withdraw Amount:  4500\n",
      "Balance        :  95500\n",
      "\n",
      "Please count your cash before leaving ATM\n",
      "\n",
      "Thank you for banking with us\n"
     ]
    }
   ],
   "source": [
    "Amount = 100000\n",
    "\n",
    "print(\"Welcome to Virtual Bank\\n\\n\")\n",
    "print(\"Press 1 for Withdraw Amount\")\n",
    "print(\"Press 2 for Amount Deposite\")\n",
    "print(\"Press 3 for Balance Inquiry\")\n",
    "print(\"Press 4 Exit\")\n",
    "\n",
    "command = int(input())\n",
    "#print(\"----------------------------------------------------------------------------------------\")\n",
    "\n",
    "if command == 1:\n",
    "    print(\"----------------------------------------------------------------------------------------\")\n",
    "    Withdraw = int(input(\"Please Enter the amount to withdraw: \"))\n",
    "    print(\"----------------------------------------------------------------------------------------\")\n",
    "    \n",
    "    if Amount < Withdraw:\n",
    "        print(\"\\n\\nYou do not have sufficient Amount to Withdraw!\")\n",
    "        print(\"\\nPlease deposite amount first.\")\n",
    "        print(\"\\nDo you want to Deposite amount?\")\n",
    "        print(\"Type 1 for Yes\")\n",
    "        print(\"Type 2 for No\")\n",
    "        \n",
    "        Permission = int(input())\n",
    "        \n",
    "        if Permission == 1:\n",
    "            Amount = int(input(\"Please Enter the amount to Deposite: \"))\n",
    "            print(\"\\n\\nCongratulation your Transaction has been completed succcufully\")\n",
    "            print(\"\\nThank you for banking with us\")\n",
    "        else:\n",
    "            print(\"\\nThank you for banking with us\")\n",
    " \n",
    "    else :\n",
    "        print(\"\\n\\nCongratulation your Transaction has been completed succcufully\")\n",
    "        Remainging_Balance = Amount - Withdraw\n",
    "        print(\"\\nWithdraw Amount: \", Withdraw)\n",
    "        print(\"Balance        : \", Remainging_Balance)\n",
    "        print(\"\\nPlease count your cash before leaving ATM\")\n",
    "        print(\"\\nThank you for banking with us\")\n",
    "\n",
    "elif command == 2:\n",
    "    Deposite = int(input(\"Please Enter the amount to Deposite: \"))\n",
    "    print(\"----------------------------------------------------------------------------------------\")\n",
    "    Current_Amount = Amount + Deposite\n",
    "    print(\"\\nCongratulation your Transaction has been completed succcufully\")\n",
    "    print(\"\\nYour current amount :\",Current_Amount)    \n",
    "    print(\"\\nThank you for banking with us\")\n",
    "    \n",
    "elif command == 3:\n",
    "    print(\"\\nYour current amount :\",Amount)\n",
    "    print(\"\\nThank you for banking with us\")\n",
    "    \n",
    "elif command == 4:\n",
    "    print()\n",
    "    \n",
    "else:\n",
    "    print(\"----------------------------------------------------------------------------------------\")\n",
    "    print(\"You enter wrong amount....\")\n",
    "    print(\"Try it Again....\")\n",
    "    print(\"----------------------------------------------------------------------------------------\")\n",
    "\n"
   ]
  },
  {
   "cell_type": "code",
   "execution_count": null,
   "metadata": {},
   "outputs": [],
   "source": []
  },
  {
   "cell_type": "code",
   "execution_count": null,
   "metadata": {},
   "outputs": [],
   "source": []
  }
 ],
 "metadata": {
  "kernelspec": {
   "display_name": "Python 3",
   "language": "python",
   "name": "python3"
  },
  "language_info": {
   "codemirror_mode": {
    "name": "ipython",
    "version": 3
   },
   "file_extension": ".py",
   "mimetype": "text/x-python",
   "name": "python",
   "nbconvert_exporter": "python",
   "pygments_lexer": "ipython3",
   "version": "3.6.7"
  }
 },
 "nbformat": 4,
 "nbformat_minor": 2
}
