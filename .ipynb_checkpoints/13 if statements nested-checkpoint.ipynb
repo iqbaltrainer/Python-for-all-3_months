{
 "cells": [
  {
   "cell_type": "code",
   "execution_count": null,
   "metadata": {},
   "outputs": [],
   "source": [
    "if (x == y or a == b) and c == d:\n",
    "    g = h\n",
    "else:\n",
    "    e = f"
   ]
  },
  {
   "cell_type": "code",
   "execution_count": null,
   "metadata": {},
   "outputs": [],
   "source": [
    "if c == d:\n",
    "    if x == y:\n",
    "        g = h\n",
    "    elif a == b:\n",
    "        g = h\n",
    "    else:\n",
    "        e = f\n",
    "        else:\n",
    "            e = f"
   ]
  },
  {
   "cell_type": "code",
   "execution_count": null,
   "metadata": {},
   "outputs": [],
   "source": [
    "1 if c == d:\n",
    "2 if x == y:\n",
    "3 g = h\n",
    "4 elif a == b:\n",
    "5 g = h\n",
    "6 else:\n",
    "7 e = f\n",
    "8 else:\n",
    "9 e = f"
   ]
  },
  {
   "cell_type": "code",
   "execution_count": null,
   "metadata": {},
   "outputs": [],
   "source": [
    "1 if c == d:\n",
    "2 if x == y:\n",
    "3 g = h\n",
    "4 elif a == b:\n",
    "5 g = h\n",
    "6 else:\n",
    "7 e = f\n",
    "8 else:\n",
    "9 e = f"
   ]
  },
  {
   "cell_type": "code",
   "execution_count": null,
   "metadata": {},
   "outputs": [],
   "source": [
    "1 if c == d:\n",
    "2 if x == y:\n",
    "3 g = h\n",
    "4 elif a == b:\n",
    "5 g = h\n",
    "6 else:\n",
    "7 e = f\n",
    "8 else:\n",
    "9 e = f"
   ]
  },
  {
   "cell_type": "code",
   "execution_count": null,
   "metadata": {},
   "outputs": [],
   "source": [
    "1 if c == d:\n",
    "2 if x == y:\n",
    "3 g = h\n",
    "4 elif a == b:\n",
    "5 g = h\n",
    "6 else:\n",
    "7 e = f\n",
    "8 else:\n",
    "9 e = f"
   ]
  },
  {
   "cell_type": "code",
   "execution_count": null,
   "metadata": {},
   "outputs": [],
   "source": [
    "1 if c == d:\n",
    "2 if x == y:\n",
    "3 g = h\n",
    "4 elif a == b:\n",
    "5 g = h\n",
    "6 else:\n",
    "7 e = f\n",
    "8 else:\n",
    "9 e = f"
   ]
  },
  {
   "cell_type": "code",
   "execution_count": null,
   "metadata": {},
   "outputs": [],
   "source": [
    "1 if c == d:\n",
    "2 if x == y:\n",
    "3 g = h\n",
    "4 elif a == b:\n",
    "5 g = h\n",
    "6 else:\n",
    "7 e = f\n",
    "8 else:\n",
    "9 e = f"
   ]
  },
  {
   "cell_type": "code",
   "execution_count": null,
   "metadata": {},
   "outputs": [],
   "source": [
    "1 if c == d:\n",
    "2 if x == y:\n",
    "3 g = h\n",
    "4 elif a == b:\n",
    "5 g = h\n",
    "6 else:\n",
    "7 e = f\n",
    "8 else:\n",
    "9 e = f"
   ]
  }
 ],
 "metadata": {
  "kernelspec": {
   "display_name": "Python 3",
   "language": "python",
   "name": "python3"
  },
  "language_info": {
   "codemirror_mode": {
    "name": "ipython",
    "version": 3
   },
   "file_extension": ".py",
   "mimetype": "text/x-python",
   "name": "python",
   "nbconvert_exporter": "python",
   "pygments_lexer": "ipython3",
   "version": "3.6.7"
  }
 },
 "nbformat": 4,
 "nbformat_minor": 2
}
