{
 "cells": [
  {
   "cell_type": "markdown",
   "metadata": {},
   "source": [
    "# Python built-in methods for string manipulation\n",
    "Python has many built-in functions or methods for the manipulation of strings. Here is the tabulated list of Python methods for string manipulation."
   ]
  },
  {
   "cell_type": "markdown",
   "metadata": {},
   "source": [
    "all( str)\n",
    "It returns true if all the elements in the iterable are true."
   ]
  },
  {
   "cell_type": "raw",
   "metadata": {},
   "source": [
    "#Python built-in methods with description\n",
    "all( str)\n",
    "It returns true if all the elements in the iterable are true.\n",
    "any(str )\n",
    "It returns true if any element in the iterable are true.\n",
    "ascii(str )\n",
    "It returns printable version of string ‘str’.\n",
    "capitalize( )\n",
    "It capitalizes the first letter of the string.\n",
    "center( )\n",
    "Returns a space-padded string with the specified character.\n",
    "count(m)\n",
    "Counts how many times m occurs in a string.\n",
    "decode(encoding=’UTF-8′, errors=’strict’)\n",
    "It decodes the string using the codec registered for encoding.\n",
    "encode(encoding=’UTF-8′, errors=’strict’)\n",
    "It returns encoded version of the string.\n",
    "endswith(suffix)\n",
    "Checks if the string ends with specified character or suffix.\n",
    "expandtabs(tabsize)\n",
    "Expands tabs in string with multiple spaces.\n",
    "find(str)\n",
    "Determine if ‘str’ is present in string or not.\n",
    "index(str)\n",
    "Returns the index of substring ‘str’ but raises an exception if ‘str’ not found.\n",
    "isalnum( )\n",
    "Returns true if string has at least 1 character and all characters are alphanumeric and false otherwise.\n",
    "isalpha( )\n",
    "Returns true if string has alphanumeric character.\n",
    "isdigit( )\n",
    "Checks if string contains only digits..\n",
    "islower( )\n",
    "Returns true if string has lowercase characters.\n",
    "isnumeric( )\n",
    "Returns true if the string contains only numeric digits.\n",
    "isspace( )\n",
    "It is used to check whitespace in the string.\n",
    "istitle( )\n",
    "Checks if a string is properly titlecased or not. Return true if titlecased.\n",
    "isupper( )\n",
    "Returns true if string has uppercase letters.\n",
    "join(seq)\n",
    "Returns concatenated string representations of elements in sequence ‘seq’.\n",
    "len(str)\n",
    "Returns the length of the string ‘str’.\n",
    "ljust(width)\n",
    "Returns a left-justified string of given width.\n",
    "lower( )\n",
    "It converts all uppercase letters in string to lowercase.\n",
    "lstrip( )\n",
    "Removes all leading characters or white spaces in the string.\n",
    "maketrans( )\n",
    "Returns a translation table that is used in translate function.\n",
    "max(str)\n",
    "It returns the max alphabet from string ‘str’.\n",
    "min(str)\n",
    "Returns the min alphabe from the string str.\n",
    "replace(old, new)\n",
    "It replaces ‘old’ sub-string with the ‘new’ string.\n",
    "rfind(str, start,end)\n",
    "It returns highest index of the sub-string.\n",
    "rindex( str)\n",
    "It is same as index( ), but search backwards in the string.\n",
    "rjust(width)\n",
    "It returns right-justified string of given width.\n",
    "rstrip( )\n",
    "It removes all trailing characters or white space of the string.\n",
    "split(str)\n",
    "It splits the string from the left.\n",
    "splitlines( )\n",
    "Splits all the new lines in the string.\n",
    "startswith(str)\n",
    "It checks whether the string starts with character ‘str’.\n",
    "strip([chars])\n",
    "It performs both lstrip() and rstrip() on the given string.\n",
    "swapcase( )\n",
    "It reverses uppercase into lowercase characters and vice-versa.\n",
    "title( )\n",
    "It returns the title cased string.\n",
    "translate(table)\n",
    "Translates string according to translation table acquired using maketrans( ) function.\n",
    "upper( )\n",
    "Converts lowercase letters to uppercase in the string.\n",
    "zfill (width)\n",
    "It returns a string padded with 0’s, width being the length of string padded with 0’s.\n",
    "isdecimal( )\n",
    "Returns true if a string contains only decimal characters."
   ]
  },
  {
   "cell_type": "code",
   "execution_count": null,
   "metadata": {},
   "outputs": [],
   "source": []
  },
  {
   "cell_type": "code",
   "execution_count": null,
   "metadata": {},
   "outputs": [],
   "source": []
  }
 ],
 "metadata": {
  "kernelspec": {
   "display_name": "Python 3",
   "language": "python",
   "name": "python3"
  },
  "language_info": {
   "codemirror_mode": {
    "name": "ipython",
    "version": 3
   },
   "file_extension": ".py",
   "mimetype": "text/x-python",
   "name": "python",
   "nbconvert_exporter": "python",
   "pygments_lexer": "ipython3",
   "version": "3.6.7"
  }
 },
 "nbformat": 4,
 "nbformat_minor": 2
}
