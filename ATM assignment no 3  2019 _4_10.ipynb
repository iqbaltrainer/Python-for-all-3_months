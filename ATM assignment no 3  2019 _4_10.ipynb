{
 "cells": [
  {
   "cell_type": "markdown",
   "metadata": {},
   "source": [
    "#ATM assignment No:3  2019 _4_10\n",
    "Amount \n",
    "\n",
    "Welcome to Virtual Bank\n",
    "Press 1 for Withdraw Amount\n",
    "Press 2 for Amount Deposite\n",
    "Press 3 for Balance Inquiry\n",
    "Press 4 Exit\n",
    "\n",
    "command \n",
    "#print(\"----------------------------------------------------------------------------------------\")\n",
    "\n",
    "command \n",
    "    \n",
    "Withdraw  \"Please Enter the amount to withdraw: \"\n",
    "\n",
    "Amount   Withdraw:\n",
    "You do not have sufficient Amount to Withdraw!\")\n",
    "Please deposite amount first.\")\n",
    "Do you want to Deposite amount?\")\n",
    "      (\"Type 1 for Yes\")        (\"Type 2 for No\")\n",
    "\n",
    "    \n",
    "    Amount \"Please Enter the amount to Deposite: \"\n",
    "            Congratulation your Transaction has been completed succcufully\"\n",
    "           Thank you for banking with us\"\n",
    "        else:\n",
    "            Thank you for banking with us\n",
    " \n",
    "  \n",
    "       Congratulation your Transaction has been completed succcufully\n",
    "        Remainging_Balance = Amount - Withdraw\n",
    "   Withdraw Amount: \", Withdraw)\n",
    "      Balance        : \", Remainging_Balance\n",
    "     Please count your cash before leaving ATM\n",
    "      Thank you for banking with us\n",
    "\n",
    "elif command \n",
    "    Deposite \"Please Enter the amount to Deposite: \"\n",
    "    print(\"----------------------------------------------------------------------------------------\")\n",
    "    Current_Amount  Amount  Deposite\n",
    "   \"Congratulation your Transaction has been completed succcufully\"\n",
    "  \"Your current amount :\"\n",
    "    \" Thank you for banking with us\"\n",
    "    \n",
    "elif command \n",
    "    \"Your current amount :\"\n",
    "    \"Thank you for banking with us\"\n",
    "    \n",
    "elif command \n",
    "    print\n",
    "else:\n",
    "    print(\"----------------------------------------------------------------------------------------\")\n",
    "    print(\"You enter wrong amount....\")\n",
    "    print(\"Try it Again....\")\n",
    "    print(\"----------------------------------------------------------------------------------------\")\n",
    "\n"
   ]
  },
  {
   "cell_type": "code",
   "execution_count": null,
   "metadata": {},
   "outputs": [],
   "source": []
  },
  {
   "cell_type": "code",
   "execution_count": null,
   "metadata": {},
   "outputs": [],
   "source": []
  }
 ],
 "metadata": {
  "kernelspec": {
   "display_name": "Python 3",
   "language": "python",
   "name": "python3"
  },
  "language_info": {
   "codemirror_mode": {
    "name": "ipython",
    "version": 3
   },
   "file_extension": ".py",
   "mimetype": "text/x-python",
   "name": "python",
   "nbconvert_exporter": "python",
   "pygments_lexer": "ipython3",
   "version": "3.6.7"
  }
 },
 "nbformat": 4,
 "nbformat_minor": 2
}
