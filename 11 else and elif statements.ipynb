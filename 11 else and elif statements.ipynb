{
 "cells": [
  {
   "cell_type": "code",
   "execution_count": 15,
   "metadata": {},
   "outputs": [
    {
     "name": "stdout",
     "output_type": "stream",
     "text": [
      "Expression value is less than 200\n",
      "Which is 150\n",
      "Good bye!\n"
     ]
    }
   ],
   "source": [
    "var =150\n",
    "if var < 200:\n",
    "  print (\"Expression value is less than 200\")\n",
    "  if var == 150:\n",
    "      print (\"Which is 150\")\n",
    "  elif var == 100:\n",
    "      print (\"Which is 100\")\n",
    "  elif var == 50:\n",
    "      print (\"Which is 50\")\n",
    "elif var > 200:\n",
    "  print (\"Expression value is greater than 200\")\n",
    "else:\n",
    "  print (\"Could not find true expression\")\n",
    " \n",
    "\n",
    "    \n",
    "print (\"Good bye!\")"
   ]
  },
  {
   "cell_type": "code",
   "execution_count": null,
   "metadata": {},
   "outputs": [],
   "source": [
    "elseif"
   ]
  },
  {
   "cell_type": "code",
   "execution_count": 10,
   "metadata": {},
   "outputs": [],
   "source": [
    "var = 100"
   ]
  },
  {
   "cell_type": "code",
   "execution_count": null,
   "metadata": {},
   "outputs": [],
   "source": []
  },
  {
   "cell_type": "code",
   "execution_count": null,
   "metadata": {},
   "outputs": [],
   "source": [
    "if species == \"cat\":\n",
    "    print(\"Yep, it's cat.\")\n",
    "    if species != \"cat\":\n",
    "        print(\"Nope, not cat.\")"
   ]
  },
  {
   "cell_type": "code",
   "execution_count": null,
   "metadata": {},
   "outputs": [],
   "source": [
    "if species == \"cat\":\n",
    "    print(\"Yep, it's cat.\")\n",
    "    else:\n",
    "        print(\"Nope, not cat.\")"
   ]
  },
  {
   "cell_type": "code",
   "execution_count": null,
   "metadata": {},
   "outputs": [],
   "source": [
    "if donut_condition == \"fresh\":\n",
    "    buy_score = 10\n",
    "    elif donut_price == \"low\":\n",
    "        buy_score = 5\n",
    "        else:\n",
    "            buy_score = 0"
   ]
  },
  {
   "cell_type": "code",
   "execution_count": 2,
   "metadata": {},
   "outputs": [
    {
     "ename": "NameError",
     "evalue": "name 'donut_condition' is not defined",
     "output_type": "error",
     "traceback": [
      "\u001b[1;31m---------------------------------------------------------------------------\u001b[0m",
      "\u001b[1;31mNameError\u001b[0m                                 Traceback (most recent call last)",
      "\u001b[1;32m<ipython-input-2-54c82be3cec6>\u001b[0m in \u001b[0;36m<module>\u001b[1;34m\u001b[0m\n\u001b[0;32m      1\u001b[0m \u001b[0mbuy_score\u001b[0m \u001b[1;33m=\u001b[0m \u001b[1;36m0\u001b[0m\u001b[1;33m\u001b[0m\u001b[1;33m\u001b[0m\u001b[0m\n\u001b[1;32m----> 2\u001b[1;33m \u001b[1;32mif\u001b[0m \u001b[0mdonut_condition\u001b[0m \u001b[1;33m==\u001b[0m \u001b[1;34m\"fresh\"\u001b[0m\u001b[1;33m:\u001b[0m\u001b[1;33m\u001b[0m\u001b[1;33m\u001b[0m\u001b[0m\n\u001b[0m\u001b[0;32m      3\u001b[0m     \u001b[0mbuy_score\u001b[0m \u001b[1;33m+=\u001b[0m \u001b[1;36m10\u001b[0m\u001b[1;33m\u001b[0m\u001b[1;33m\u001b[0m\u001b[0m\n\u001b[0;32m      4\u001b[0m     \u001b[1;32mif\u001b[0m \u001b[0mdonut_filling\u001b[0m \u001b[1;33m==\u001b[0m \u001b[1;34m\"chocolate\"\u001b[0m\u001b[1;33m:\u001b[0m\u001b[1;33m\u001b[0m\u001b[1;33m\u001b[0m\u001b[0m\n\u001b[0;32m      5\u001b[0m         \u001b[0mbuy_score\u001b[0m \u001b[1;33m+=\u001b[0m \u001b[1;36m5\u001b[0m\u001b[1;33m\u001b[0m\u001b[1;33m\u001b[0m\u001b[0m\n",
      "\u001b[1;31mNameError\u001b[0m: name 'donut_condition' is not defined"
     ]
    }
   ],
   "source": [
    "buy_score = 0\n",
    "if donut_condition == \"fresh\":\n",
    "    buy_score += 10\n",
    "    if donut_filling == \"chocolate\":\n",
    "        buy_score += 5\n",
    "        if donut_price == \"reasonable\":\n",
    "            buy_score += 7"
   ]
  },
  {
   "cell_type": "markdown",
   "metadata": {},
   "source": [
    "--- If else Python Program---"
   ]
  },
  {
   "cell_type": "code",
   "execution_count": 3,
   "metadata": {},
   "outputs": [],
   "source": []
  },
  {
   "cell_type": "code",
   "execution_count": 9,
   "metadata": {},
   "outputs": [
    {
     "ename": "SyntaxError",
     "evalue": "invalid syntax (<ipython-input-9-d8f82b881caa>, line 10)",
     "output_type": "error",
     "traceback": [
      "\u001b[1;36m  File \u001b[1;32m\"<ipython-input-9-d8f82b881caa>\"\u001b[1;36m, line \u001b[1;32m10\u001b[0m\n\u001b[1;33m    elif pro_var > 200:\u001b[0m\n\u001b[1;37m       ^\u001b[0m\n\u001b[1;31mSyntaxError\u001b[0m\u001b[1;31m:\u001b[0m invalid syntax\n"
     ]
    }
   ],
   "source": [
    "pro_var = 100\n",
    "if pro_var < 200 :\n",
    "    print(\"Expression value is less than 200\")\n",
    "    if pro_var == 150:\n",
    "        print(\"Which is 150\")\n",
    "    elif pro_var == 100:\n",
    "        print(\"which is 100\")\n",
    "    elif pro_var == 50:\n",
    "        print (\"Which is 50\"\n",
    "elif pro_var > 200:\n",
    "               print(\"Expression value is greater than 200\")\n",
    "else:\n",
    "               print (\"Could not find true expression\")\n",
    "print (\"Good bye!\")"
   ]
  },
  {
   "cell_type": "code",
   "execution_count": null,
   "metadata": {},
   "outputs": [],
   "source": []
  },
  {
   "cell_type": "code",
   "execution_count": null,
   "metadata": {},
   "outputs": [],
   "source": []
  },
  {
   "cell_type": "code",
   "execution_count": null,
   "metadata": {},
   "outputs": [],
   "source": []
  },
  {
   "cell_type": "code",
   "execution_count": null,
   "metadata": {},
   "outputs": [],
   "source": [
    "\n",
    "\n",
    "\n"
   ]
  },
  {
   "cell_type": "code",
   "execution_count": null,
   "metadata": {},
   "outputs": [],
   "source": []
  },
  {
   "cell_type": "code",
   "execution_count": null,
   "metadata": {},
   "outputs": [],
   "source": []
  },
  {
   "cell_type": "code",
   "execution_count": null,
   "metadata": {},
   "outputs": [],
   "source": []
  },
  {
   "cell_type": "code",
   "execution_count": null,
   "metadata": {},
   "outputs": [],
   "source": []
  },
  {
   "cell_type": "code",
   "execution_count": null,
   "metadata": {},
   "outputs": [],
   "source": []
  },
  {
   "cell_type": "code",
   "execution_count": null,
   "metadata": {},
   "outputs": [],
   "source": []
  },
  {
   "cell_type": "code",
   "execution_count": null,
   "metadata": {},
   "outputs": [],
   "source": []
  }
 ],
 "metadata": {
  "kernelspec": {
   "display_name": "Python 3",
   "language": "python",
   "name": "python3"
  },
  "language_info": {
   "codemirror_mode": {
    "name": "ipython",
    "version": 3
   },
   "file_extension": ".py",
   "mimetype": "text/x-python",
   "name": "python",
   "nbconvert_exporter": "python",
   "pygments_lexer": "ipython3",
   "version": "3.6.7"
  }
 },
 "nbformat": 4,
 "nbformat_minor": 2
}
