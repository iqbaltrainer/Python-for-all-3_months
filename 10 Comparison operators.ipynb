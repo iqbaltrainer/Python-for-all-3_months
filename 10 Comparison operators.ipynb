{
 "cells": [
  {
   "cell_type": "code",
   "execution_count": 1,
   "metadata": {},
   "outputs": [],
   "source": [
    "full_name = \"Mark\""
   ]
  },
  {
   "cell_type": "code",
   "execution_count": null,
   "metadata": {},
   "outputs": [],
   "source": []
  },
  {
   "cell_type": "code",
   "execution_count": 2,
   "metadata": {},
   "outputs": [
    {
     "ename": "IndentationError",
     "evalue": "expected an indented block (<ipython-input-2-ccba17d1319a>, line 2)",
     "output_type": "error",
     "traceback": [
      "\u001b[1;36m  File \u001b[1;32m\"<ipython-input-2-ccba17d1319a>\"\u001b[1;36m, line \u001b[1;32m2\u001b[0m\n\u001b[1;33m    if full_name == first_name + \" \" + \"Myers\":\u001b[0m\n\u001b[1;37m     ^\u001b[0m\n\u001b[1;31mIndentationError\u001b[0m\u001b[1;31m:\u001b[0m expected an indented block\n"
     ]
    }
   ],
   "source": [
    "if full_name == \"Mark\" + \" \" + \"Myers\":\n",
    "if full_name == first_name + \" \" + \"Myers\":\n",
    "if full_name == first_name + \" \" + last_name:\n",
    "if total_cost == 81.50 + 135:\n",
    "if total_cost == materials_cost + 135:\n",
    "if total_cost == materials_cost + labor_cost:\n",
    "if x + y == a - b:"
   ]
  },
  {
   "cell_type": "code",
   "execution_count": null,
   "metadata": {},
   "outputs": [],
   "source": [
    "if your_ticket_number != 487208:\n",
    "    print(\"Better luck next time.\")"
   ]
  },
  {
   "cell_type": "code",
   "execution_count": null,
   "metadata": {},
   "outputs": [],
   "source": [
    "if 1 > 0:\n",
    "if 0 < 1:\n",
    "if 1 >= 0:\n",
    "if 1 >= 1:\n",
    "if 0 <= 1:\n",
    "if 1 <= 1:"
   ]
  }
 ],
 "metadata": {
  "kernelspec": {
   "display_name": "Python 3",
   "language": "python",
   "name": "python3"
  },
  "language_info": {
   "codemirror_mode": {
    "name": "ipython",
    "version": 3
   },
   "file_extension": ".py",
   "mimetype": "text/x-python",
   "name": "python",
   "nbconvert_exporter": "python",
   "pygments_lexer": "ipython3",
   "version": "3.6.7"
  }
 },
 "nbformat": 4,
 "nbformat_minor": 2
}
